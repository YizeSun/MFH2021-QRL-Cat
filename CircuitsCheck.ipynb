{
 "cells": [
  {
   "cell_type": "code",
   "execution_count": 54,
   "metadata": {},
   "outputs": [],
   "source": [
    "import numpy as np\n",
    "import random "
   ]
  },
  {
   "cell_type": "code",
   "execution_count": 108,
   "metadata": {},
   "outputs": [
    {
     "name": "stdout",
     "output_type": "stream",
     "text": [
      "[['01' '10' '01']\n",
      " ['00' '11' '01']\n",
      " ['00' '10' '10']]\n"
     ]
    }
   ],
   "source": [
    "UP = \"00\"\n",
    "DOWN = \"01\"\n",
    "LEFT = \"10\"\n",
    "RIGHT = \"11\"\n",
    "ACTIONS = [UP, DOWN, LEFT, RIGHT]\n",
    "# Define a matrix\n",
    "gridSize = [3,3]\n",
    "matrix = np.empty((3, 3),dtype=object)\n",
    "def genmatrix(shape):\n",
    "    for i in range(0,shape[0]):\n",
    "        for j in range(0,shape[1]):\n",
    "            matrix[i][j] = ACTIONS[random.randint(0,3)]\n",
    "    return matrix\n",
    "matrix = genmatrix(gridSize)\n",
    "print(matrix)"
   ]
  },
  {
   "cell_type": "code",
   "execution_count": 104,
   "metadata": {},
   "outputs": [
    {
     "name": "stdout",
     "output_type": "stream",
     "text": [
      "[['00' '01' '10']\n",
      " ['01' '10' '11']\n",
      " ['11' '11' '10']]\n"
     ]
    }
   ],
   "source": [
    "target = genmatrix(gridSize)\n",
    "print(target)"
   ]
  },
  {
   "cell_type": "code",
   "execution_count": 109,
   "metadata": {},
   "outputs": [],
   "source": [
    "def circuits_check(matrix,target):\n",
    "    if matrix.shape != target.shape: \n",
    "        raise ValueError(f\"Different shapes error\")\n",
    "    else:\n",
    "        result = np.empty((3, 3),dtype=int)\n",
    "        for i in range(0,matrix.shape[0]):\n",
    "            for j in range(0,matrix.shape[1]):\n",
    "                \n",
    "                if matrix[i][j] == target[i][j]:\n",
    "                    result[i][j] = 0\n",
    "                    \n",
    "                elif ((matrix[i][j] == UP and target[i][j] == DOWN)\\\n",
    "                    or (matrix[i][j] == DOWN and target[i][j] == UP) \\\n",
    "                    or (matrix[i][j] == LEFT and target[i][j] == RIGHT) \\\n",
    "                    or (matrix[i][j] == RIGHT and target[i][j] == LEFT)):\n",
    "                    result[i][j] = 2\n",
    "                    \n",
    "                elif (matrix[i][j] != target[i][j]):\n",
    "                    result[i][j] = 1\n",
    "                    \n",
    "    return result"
   ]
  },
  {
   "cell_type": "code",
   "execution_count": 110,
   "metadata": {},
   "outputs": [
    {
     "name": "stdout",
     "output_type": "stream",
     "text": [
      "[[2 1 1]\n",
      " [2 2 1]\n",
      " [1 2 0]]\n"
     ]
    }
   ],
   "source": [
    "print(circuits_check(matrix,target))"
   ]
  },
  {
   "cell_type": "code",
   "execution_count": null,
   "metadata": {},
   "outputs": [],
   "source": []
  }
 ],
 "metadata": {
  "kernelspec": {
   "display_name": "Python 3",
   "language": "python",
   "name": "python3"
  },
  "language_info": {
   "codemirror_mode": {
    "name": "ipython",
    "version": 3
   },
   "file_extension": ".py",
   "mimetype": "text/x-python",
   "name": "python",
   "nbconvert_exporter": "python",
   "pygments_lexer": "ipython3",
   "version": "3.8.8"
  }
 },
 "nbformat": 4,
 "nbformat_minor": 4
}
