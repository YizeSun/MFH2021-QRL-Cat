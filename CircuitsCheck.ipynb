{
 "cells": [
  {
   "cell_type": "code",
   "execution_count": 142,
   "metadata": {},
   "outputs": [],
   "source": [
    "from copy import deepcopy\n",
    "import numpy as np\n",
    "import random\n",
    "from qiskit import QuantumCircuit, ClassicalRegister, QuantumRegister\n",
    "from qiskit import Aer, transpile, assemble\n",
    "from qiskit.providers import backend\n",
    "from qiskit.aqua.components.optimizers import COBYLA"
   ]
  },
  {
   "cell_type": "code",
   "execution_count": 185,
   "metadata": {},
   "outputs": [
    {
     "name": "stdout",
     "output_type": "stream",
     "text": [
      "[['11' '00' '00']\n",
      " ['10' '10' '10']\n",
      " ['01' '00' '10']]\n"
     ]
    }
   ],
   "source": [
    "UP = \"00\"\n",
    "DOWN = \"01\"\n",
    "LEFT = \"10\"\n",
    "RIGHT = \"11\"\n",
    "ACTIONS = [UP, DOWN, LEFT, RIGHT]\n",
    "# Define a matrix\n",
    "gridSize = [3,3]\n",
    "matrix = np.empty((3, 3),dtype=object)\n",
    "def genmatrix(shape):\n",
    "    for i in range(0,shape[0]):\n",
    "        for j in range(0,shape[1]):\n",
    "            matrix[i][j] = ACTIONS[random.randint(0,3)]\n",
    "    return matrix\n",
    "matrix = genmatrix(gridSize)\n",
    "print(matrix)"
   ]
  },
  {
   "cell_type": "code",
   "execution_count": 144,
   "metadata": {},
   "outputs": [
    {
     "name": "stdout",
     "output_type": "stream",
     "text": [
      "[['00' '01' '00']\n",
      " ['11' '01' '00']\n",
      " ['00' '10' '01']]\n"
     ]
    }
   ],
   "source": [
    "target = genmatrix(gridSize)\n",
    "print(target)"
   ]
  },
  {
   "cell_type": "code",
   "execution_count": 145,
   "metadata": {},
   "outputs": [],
   "source": [
    "def circuits_check(matrix,target):\n",
    "    cool = 0 \n",
    "    good = 1\n",
    "    normal = 2\n",
    "    \n",
    "    if matrix.shape != target.shape: \n",
    "        raise ValueError(f\"Different shapes error\")\n",
    "    else:\n",
    "        result = np.empty((3, 3),dtype=int)\n",
    "        for i in range(0,matrix.shape[0]):\n",
    "            for j in range(0,matrix.shape[1]):\n",
    "                \n",
    "                if matrix[i][j] == target[i][j]:\n",
    "                    result[i][j] = cool\n",
    "                    \n",
    "                elif ((matrix[i][j] == UP and target[i][j] == DOWN)\\\n",
    "                    or (matrix[i][j] == DOWN and target[i][j] == UP) \\\n",
    "                    or (matrix[i][j] == LEFT and target[i][j] == RIGHT) \\\n",
    "                    or (matrix[i][j] == RIGHT and target[i][j] == LEFT)):\n",
    "                    result[i][j] = normal\n",
    "                    \n",
    "                elif (matrix[i][j] != target[i][j]):\n",
    "                    result[i][j] = good\n",
    "                    \n",
    "    return result"
   ]
  },
  {
   "cell_type": "code",
   "execution_count": 146,
   "metadata": {},
   "outputs": [
    {
     "name": "stdout",
     "output_type": "stream",
     "text": [
      "[[0 0 0]\n",
      " [0 0 0]\n",
      " [0 0 0]]\n"
     ]
    }
   ],
   "source": [
    "print(circuits_check(matrix,target))"
   ]
  },
  {
   "cell_type": "code",
   "execution_count": 147,
   "metadata": {},
   "outputs": [],
   "source": [
    "# Define a dictionary to work with:\n",
    "d = {(0, 0): (np.array([0., 0., 0., 0., 0., 0.]), 0.0, 0),\n",
    "     (0, 1): (np.array([0., 0., 0., 0., 0., 0.]), -1.0, 37), \n",
    "     (0, 2): (np.array([0., 0., 0., 0., 0., 0.]), 0.0, 0), \n",
    "     (1, 0): (np.array([0., 0., 0., 0., 0., 0.]), 0.0, 37),\n",
    "     (1, 1): (np.array([0., 0., 0., 0., 0., 0.]), -1.0, 37),\n",
    "     (1, 2): (np.array([0., 0., 0., 0., 0., 0.]), -1.0, 37),\n",
    "     (2, 0): (np.array([-0.02332911,  1.45054987,  1.4877359 ,  1.27548996,  1.48778515, 1.27549177]), 0.0, 37),\n",
    "     (2, 1): (np.array([0., 0., 0., 0., 0., 0.]), -1.0, 37), \n",
    "     (2, 2): (np.array([0., 0., 0., 0., 0., 0.]), -1.0, 37)}"
   ]
  },
  {
   "cell_type": "code",
   "execution_count": 181,
   "metadata": {},
   "outputs": [],
   "source": [
    "qt = {(0, 0): np.array([0., 0., 0., 0.]), (0, 1): np.array([0., 0., 0., 0.]), (0, 2): np.array([0., 0., 0., 0.]), (1, 0): np.array([100.,   0.,   0.,   0.]), (1, 1): np.array([0., 0., 0., 0.]), (1, 2): np.array([0., 0., 0., 0.]), (2, 0): np.array([97.        , 89.20848412, 94.06      ,  0.        ]), (2, 1): np.array([0., 0., 0., 0.]), (2, 2): np.array([0., 0., 0., 0.])}"
   ]
  },
  {
   "cell_type": "code",
   "execution_count": 148,
   "metadata": {},
   "outputs": [
    {
     "name": "stdout",
     "output_type": "stream",
     "text": [
      "(0, 0) (array([0., 0., 0., 0., 0., 0.]), 0.0, 0)\n",
      "(0, 1) (array([0., 0., 0., 0., 0., 0.]), -1.0, 37)\n",
      "(0, 2) (array([0., 0., 0., 0., 0., 0.]), 0.0, 0)\n",
      "(1, 0) (array([0., 0., 0., 0., 0., 0.]), 0.0, 37)\n",
      "(1, 1) (array([0., 0., 0., 0., 0., 0.]), -1.0, 37)\n",
      "(1, 2) (array([0., 0., 0., 0., 0., 0.]), -1.0, 37)\n",
      "(2, 0) (array([-0.02332911,  1.45054987,  1.4877359 ,  1.27548996,  1.48778515,\n",
      "        1.27549177]), 0.0, 37)\n",
      "(2, 1) (array([0., 0., 0., 0., 0., 0.]), -1.0, 37)\n",
      "(2, 2) (array([0., 0., 0., 0., 0., 0.]), -1.0, 37)\n"
     ]
    }
   ],
   "source": [
    "for key, value in d.items() :\n",
    "    print (key, value)"
   ]
  },
  {
   "cell_type": "code",
   "execution_count": 179,
   "metadata": {},
   "outputs": [
    {
     "name": "stdout",
     "output_type": "stream",
     "text": [
      "0\n"
     ]
    }
   ],
   "source": [
    "keys = list(d.keys())\n",
    "print(keys[0][0])"
   ]
  },
  {
   "cell_type": "code",
   "execution_count": 183,
   "metadata": {},
   "outputs": [],
   "source": [
    "backend = Aer.get_backend(\"qasm_simulator\")\n",
    "NUM_SHOTS = 1000 # number of measurements \n",
    "optimizer = COBYLA(maxiter=500, tol=0.0001) # off the shelf\n",
    "\n",
    "\n",
    "def qcMaker(params):\n",
    "    qr = QuantumRegister(2, name=\"q\")\n",
    "    cr = ClassicalRegister(2, name=\"c\")\n",
    "    qc = QuantumCircuit(qr, cr)\n",
    "    qc.u3(params[0], params[1], params[2], qr[0])\n",
    "    qc.u3(params[3], params[4], params[5], qr[1])\n",
    "    qc.measure(qr, cr)\n",
    "    return qc\n",
    "\n",
    "def calcActions(d):\n",
    " \n",
    "    actions = dict()\n",
    "    for key in d.keys():\n",
    "        qc = qcMaker(d[key][0])\n",
    "        t_qc = transpile(qc, backend)\n",
    "        job = assemble(t_qc, shots=NUM_SHOTS)\n",
    "        rlt = backend.run(job).result()\n",
    "        counts = rlt.get_counts(qc) \n",
    "        action = max(counts, key = counts.get)\n",
    "        actions[key] = action\n",
    "        \n",
    "    return actions\n",
    "\n",
    "NumRows = 3\n",
    "NumColumns = 3\n",
    "\n",
    "def newPosition(position, action):\n",
    "        p = position\n",
    "        if action == UP:\n",
    "            p[0] = max(0, p[0] - 1)\n",
    "        elif action == DOWN:\n",
    "            p[0] = min(NumRows - 1, p[0] + 1)\n",
    "        elif action == LEFT:\n",
    "            p[1] = max(0, p[1] - 1)\n",
    "        elif action == RIGHT:\n",
    "            p[1] = min(NumColumns - 1, p[1] + 1)\n",
    "        else:\n",
    "            raise ValueError(f\"Unkown action\")\n",
    "        return p\n",
    "\n",
    "    # qt is a dict with all q-values\n",
    "def calcPerformance(d, actions: dict, qt: dict):\n",
    "    \n",
    "    matrix = np.empty((3, 3),dtype=object)\n",
    "    targetmatrix = np.empty((3, 3),dtype=object)\n",
    "    for key in d.keys():\n",
    "        action = ACTIONS[int(actions[key],2)] # \"00\",\"01\"\n",
    "        matrix[key[0]][key[1]] = action\n",
    "        targetAction = ACTIONS[np.argmax(qt[key])] # \"00\",\"01\"\n",
    "        targetmatrix[key[0]][key[1]] = targetAction\n",
    "    return circuits_check(matrix,targetmatrix)"
   ]
  },
  {
   "cell_type": "code",
   "execution_count": 184,
   "metadata": {},
   "outputs": [
    {
     "name": "stdout",
     "output_type": "stream",
     "text": [
      "[[0 0 0]\n",
      " [0 0 0]\n",
      " [0 0 0]]\n"
     ]
    }
   ],
   "source": [
    "actions = calcPerformance(d,calcActions(d),qt)\n",
    "print(actions)"
   ]
  }
 ],
 "metadata": {
  "kernelspec": {
   "display_name": "Python 3",
   "language": "python",
   "name": "python3"
  },
  "language_info": {
   "codemirror_mode": {
    "name": "ipython",
    "version": 3
   },
   "file_extension": ".py",
   "mimetype": "text/x-python",
   "name": "python",
   "nbconvert_exporter": "python",
   "pygments_lexer": "ipython3",
   "version": "3.8.8"
  }
 },
 "nbformat": 4,
 "nbformat_minor": 4
}
