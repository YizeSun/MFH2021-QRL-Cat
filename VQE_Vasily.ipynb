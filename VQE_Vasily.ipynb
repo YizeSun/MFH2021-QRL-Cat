{
 "cells": [
  {
   "cell_type": "markdown",
   "metadata": {},
   "source": [
    "# Classic code part"
   ]
  },
  {
   "cell_type": "code",
   "execution_count": 1,
   "metadata": {},
   "outputs": [],
   "source": [
    "import numpy as np\n",
    "import random"
   ]
  },
  {
   "cell_type": "code",
   "execution_count": 2,
   "metadata": {},
   "outputs": [],
   "source": [
    "CAT = \"c\"\n",
    "DOG = \"d\"\n",
    "MOUSE = \"m\"\n",
    "EMPTY = \"emp\"\n",
    "\n",
    "field = [[MOUSE, EMPTY],\n",
    "         [DOG, CAT]]\n",
    "\n",
    "def showField():\n",
    "    for row in field:\n",
    "        print(\" \".join(row))"
   ]
  },
  {
   "cell_type": "code",
   "execution_count": 3,
   "metadata": {},
   "outputs": [
    {
     "name": "stdout",
     "output_type": "stream",
     "text": [
      "m emp\n",
      "d c\n"
     ]
    }
   ],
   "source": [
    "showField()"
   ]
  },
  {
   "cell_type": "code",
   "execution_count": 5,
   "metadata": {},
   "outputs": [
    {
     "name": "stdout",
     "output_type": "stream",
     "text": [
      "False\n",
      "[['m', 'emp'], ['d', 'c']]\n",
      "[1, 1]\n"
     ]
    }
   ],
   "source": [
    "class State:\n",
    "    def __init__(self, field, catP):\n",
    "        self.field = field\n",
    "        self.catP = catP #Cat position\n",
    "    \n",
    "    def __eq__(self, other):\n",
    "        return isinstance(other, State) and self.field == other.field and self.catP == other.catP\n",
    "\n",
    "    def __str__(self):\n",
    "        return f\"State(feld={self.field}, cat_pos={self.catP}\" \n",
    "\n",
    "# actions:\n",
    "UP = '00'\n",
    "DOWN = '01'\n",
    "LEFT = '10'\n",
    "RIGHT = '11'\n",
    "\n",
    "ACTIONS = [UP, DOWN, LEFT, RIGHT]\n",
    "\n",
    "\n",
    "\n",
    "iniState = State(field=field, catP=[1, 1])\n",
    "\n",
    "print(iniState.__eq__(5))\n",
    "newField = iniState.field\n",
    "print(newField)\n",
    "print(iniState.catP)"
   ]
  },
  {
   "cell_type": "code",
   "execution_count": 6,
   "metadata": {},
   "outputs": [],
   "source": [
    "# choose action to do\n",
    "def act(state, action):\n",
    "    \n",
    "    def newCatPosition(state, action):\n",
    "        p = deepcopy(state.catP)\n",
    "        if action == UP:\n",
    "            p[0] = max(0, p[0] - 1)\n",
    "        elif action == DOWN:\n",
    "            p[0] = min(len(state.field) - 1, p[0]+1)\n",
    "        elif action == LEFT:\n",
    "            p[1] = max(0, p[1] - 1)\n",
    "        elif action == RIGHT:\n",
    "            p[1] = min(len(state.field) - 1, p[1] + 1)\n",
    "        else:\n",
    "            raise ValueError(f\"Unkown action {action}\")\n",
    "\n",
    "        return p\n",
    "\n",
    "\n",
    "    p = newCatPosition(state, action)\n",
    "    fieldItem = state.field[p[0]][p[1]] #Define who lives in the new cat position \n",
    "    newField = deepcopy(state.field)\n",
    "\n",
    "    if fieldItem == DOG:\n",
    "        reward = -100\n",
    "        isDone = True # The dog has killed the cat\n",
    "        newField[p[0]][p[1]] += CAT\n",
    "    elif fieldItem == MOUSE:\n",
    "        reward = 1000\n",
    "        isDone = True # The cat has eaten the mouse\n",
    "        newField[p[0]][p[1]] += CAT\n",
    "    elif fieldItem == EMPTY:\n",
    "        reward = -1\n",
    "        isDone = False # Nothing has changed\n",
    "        old = state.catP\n",
    "        newField[old[0]][old[1]] = EMPTY\n",
    "        newField[p[0]][p[1]] = CAT\n",
    "    elif fieldItem == CAT:\n",
    "        reward = -1\n",
    "        isDone = False # Nothing has changed\n",
    "    else:\n",
    "        raise ValueError(f\"Unknown field item {fieldItem}\")\n",
    "    \n",
    "    return State(field=newField, catP=p), reward, isDone"
   ]
  },
  {
   "cell_type": "markdown",
   "metadata": {},
   "source": [
    "# Quantum code part"
   ]
  },
  {
   "cell_type": "code",
   "execution_count": 18,
   "metadata": {},
   "outputs": [
    {
     "data": {
      "text/html": [
       "<pre style=\"word-wrap: normal;white-space: pre;background: #fff0;line-height: 1.1;font-family: &quot;Courier New&quot;,Courier,monospace\">        ┌───────────┐   ┌───┐  ┌─────────────┐  \n",
       "q_0: ───┤ U3(0,0,0) ├───┤ X ├──┤ U3(0,0,0.5) ├──\n",
       "     ┌──┴───────────┴──┐└─┬─┘┌─┴─────────────┴─┐\n",
       "q_1: ┤ U3(0.5,0.5,0.5) ├──■──┤ U3(0.5,0.5,0.5) ├\n",
       "     └─────────────────┘     └─────────────────┘\n",
       "c: 2/═══════════════════════════════════════════\n",
       "                                                </pre>"
      ],
      "text/plain": [
       "        ┌───────────┐   ┌───┐  ┌─────────────┐  \n",
       "q_0: ───┤ U3(0,0,0) ├───┤ X ├──┤ U3(0,0,0.5) ├──\n",
       "     ┌──┴───────────┴──┐└─┬─┘┌─┴─────────────┴─┐\n",
       "q_1: ┤ U3(0.5,0.5,0.5) ├──■──┤ U3(0.5,0.5,0.5) ├\n",
       "     └─────────────────┘     └─────────────────┘\n",
       "c: 2/═══════════════════════════════════════════\n",
       "                                                "
      ]
     },
     "execution_count": 18,
     "metadata": {},
     "output_type": "execute_result"
    }
   ],
   "source": [
    "from qiskit import QuantumCircuit, ClassicalRegister, QuantumRegister\n",
    "\n",
    "def get_var_form(params):\n",
    "    qr = QuantumRegister(2, name=\"q\")\n",
    "    cr = ClassicalRegister(2, name='c')\n",
    "    qc = QuantumCircuit(qr, cr)\n",
    "    qc.u3(params[0][0], params[0][1], params[0][2], qr[0])\n",
    "    qc.u3(params[1][0], params[1][1], params[1][2], qr[1])\n",
    "    qc.cx(1,0)\n",
    "    qc.u3(params[2][0], params[2][1], params[3][2], qr[0])\n",
    "    qc.u3(params[3][0], params[3][1], params[3][2], qr[1])\n",
    "    #qc.measure(qr, cr[0])\n",
    "    return qc\n",
    "qc_trial = get_var_form([[0,0,0,0],[0.5,0.5,0.5,0],[0,0,0,0],[0.5,0.5,0.5,0]])\n",
    "qc_trial.draw()"
   ]
  },
  {
   "cell_type": "code",
   "execution_count": null,
   "metadata": {},
   "outputs": [],
   "source": []
  }
 ],
 "metadata": {
  "kernelspec": {
   "display_name": "Python 3",
   "language": "python",
   "name": "python3"
  },
  "language_info": {
   "codemirror_mode": {
    "name": "ipython",
    "version": 3
   },
   "file_extension": ".py",
   "mimetype": "text/x-python",
   "name": "python",
   "nbconvert_exporter": "python",
   "pygments_lexer": "ipython3",
   "version": "3.8.8"
  }
 },
 "nbformat": 4,
 "nbformat_minor": 4
}
